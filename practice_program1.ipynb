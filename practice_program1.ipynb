{
  "nbformat": 4,
  "nbformat_minor": 0,
  "metadata": {
    "colab": {
      "provenance": [],
      "authorship_tag": "ABX9TyO4+M6MnOkUKn9lpaFxkzjX",
      "include_colab_link": true
    },
    "kernelspec": {
      "name": "python3",
      "display_name": "Python 3"
    },
    "language_info": {
      "name": "python"
    }
  },
  "cells": [
    {
      "cell_type": "markdown",
      "metadata": {
        "id": "view-in-github",
        "colab_type": "text"
      },
      "source": [
        "<a href=\"https://colab.research.google.com/github/Ooviya20/python_for_DA/blob/main/practice_program1.ipynb\" target=\"_parent\"><img src=\"https://colab.research.google.com/assets/colab-badge.svg\" alt=\"Open In Colab\"/></a>"
      ]
    },
    {
      "cell_type": "code",
      "execution_count": null,
      "metadata": {
        "colab": {
          "base_uri": "https://localhost:8080/"
        },
        "id": "Uv-mDCQbIfvh",
        "outputId": "8be5dc24-4bce-497a-e264-cf648a42d029"
      },
      "outputs": [
        {
          "output_type": "stream",
          "name": "stdout",
          "text": [
            "Enter the number:9\n",
            "The square number is: 81\n"
          ]
        }
      ],
      "source": [
        "a=int(input(\"Enter the number:\"))\n",
        "print(\"The square number is:\",a*a)"
      ]
    },
    {
      "cell_type": "code",
      "source": [
        "c=float(input(\"enter the celsius value:\"))\n",
        "f=(c*1.8)+32\n",
        "print(\"convert celsius to fahrenheit:\",f)"
      ],
      "metadata": {
        "colab": {
          "base_uri": "https://localhost:8080/"
        },
        "id": "6sMQnnlmNnZQ",
        "outputId": "31abfcd4-e8fa-46d2-c3ed-8683d78d394d"
      },
      "execution_count": null,
      "outputs": [
        {
          "output_type": "stream",
          "name": "stdout",
          "text": [
            "enter the celsius value:36.5\n",
            "convert celsius to fahrenheit: 97.7\n"
          ]
        }
      ]
    },
    {
      "cell_type": "code",
      "source": [
        "a=int(input(\"enter the number:\"))\n",
        "if a>0:\n",
        "  print(\"positive number\")\n",
        "elif a==0:\n",
        "  print(\"zero\")\n",
        "else:\n",
        "  print(\"negative number\")"
      ],
      "metadata": {
        "colab": {
          "base_uri": "https://localhost:8080/"
        },
        "id": "VDTP4BFLQbxH",
        "outputId": "bdd34125-695d-49c3-b55c-67b1cd40335a"
      },
      "execution_count": null,
      "outputs": [
        {
          "output_type": "stream",
          "name": "stdout",
          "text": [
            "enter the number:0\n",
            "zero\n"
          ]
        }
      ]
    },
    {
      "cell_type": "code",
      "source": [
        "a=int(input(\"enter the value of a:\"))\n",
        "b=int(input(\"enter the value of b :\"))\n",
        "c=int(input(\"enter the value of c:\"))\n",
        "if a>b and a>c:\n",
        "  print(\"a is larger number\")\n",
        "elif b>a and b>c:\n",
        "   print(\"b is larger number\")\n",
        "else:\n",
        "   print(\"c is larger number\")"
      ],
      "metadata": {
        "colab": {
          "base_uri": "https://localhost:8080/"
        },
        "id": "IqpZknGWRaVo",
        "outputId": "86e7c76e-5ca6-41a6-e2ad-3a91af9c89b9"
      },
      "execution_count": null,
      "outputs": [
        {
          "output_type": "stream",
          "name": "stdout",
          "text": [
            "enter the value of a:4\n",
            "enter the value of b :6\n",
            "enter the value of c:3\n",
            "b is larger number\n"
          ]
        }
      ]
    }
  ]
}