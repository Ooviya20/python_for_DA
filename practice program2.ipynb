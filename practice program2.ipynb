{
  "nbformat": 4,
  "nbformat_minor": 0,
  "metadata": {
    "colab": {
      "provenance": [],
      "authorship_tag": "ABX9TyOb3iytjMZ7KEFWZJv/Mct3",
      "include_colab_link": true
    },
    "kernelspec": {
      "name": "python3",
      "display_name": "Python 3"
    },
    "language_info": {
      "name": "python"
    }
  },
  "cells": [
    {
      "cell_type": "markdown",
      "metadata": {
        "id": "view-in-github",
        "colab_type": "text"
      },
      "source": [
        "<a href=\"https://colab.research.google.com/github/Ooviya20/python_for_DA/blob/main/practice%20program2.ipynb\" target=\"_parent\"><img src=\"https://colab.research.google.com/assets/colab-badge.svg\" alt=\"Open In Colab\"/></a>"
      ]
    },
    {
      "cell_type": "code",
      "execution_count": null,
      "metadata": {
        "colab": {
          "base_uri": "https://localhost:8080/"
        },
        "id": "qpJ9_bvsH39O",
        "outputId": "105331ff-7678-4b07-d9d3-24cac82c6751"
      },
      "outputs": [
        {
          "output_type": "stream",
          "name": "stdout",
          "text": [
            "Enter the number:3\n",
            "The Factorial is :  6\n"
          ]
        }
      ],
      "source": [
        "def factorial(n):\n",
        "    if (n==1 or n==0):\n",
        "         return 1\n",
        "    else:\n",
        "         return (n * factorial(n - 1))\n",
        "num=int(input(\"Enter the number:\"));\n",
        "print(\"The Factorial is : \",factorial(num))"
      ]
    },
    {
      "cell_type": "code",
      "source": [
        "#input()\n",
        "print('Enter your name:')\n",
        "x = input() // user will assign the input\n",
        "print('Hello, ' + x)"
      ],
      "metadata": {
        "colab": {
          "base_uri": "https://localhost:8080/"
        },
        "id": "sa0W6bj4KWnM",
        "outputId": "010552f7-6949-43e6-ac06-39a00e6963a3"
      },
      "execution_count": null,
      "outputs": [
        {
          "output_type": "stream",
          "name": "stdout",
          "text": [
            "Enter your name:\n",
            "divya\n",
            "Hello, divya\n"
          ]
        }
      ]
    },
    {
      "cell_type": "code",
      "source": [
        "#int()\n",
        "x = int(3.5) // to print without decimal point\n",
        "print(x)"
      ],
      "metadata": {
        "colab": {
          "base_uri": "https://localhost:8080/"
        },
        "id": "HFbpXLSkLx2b",
        "outputId": "f5234c7c-600f-45e7-9346-0f7eceb6e8e8"
      },
      "execution_count": null,
      "outputs": [
        {
          "output_type": "stream",
          "name": "stdout",
          "text": [
            "3\n"
          ]
        }
      ]
    },
    {
      "cell_type": "code",
      "source": [
        "#print()\n",
        "print(\"Hello World\")// to display"
      ],
      "metadata": {
        "colab": {
          "base_uri": "https://localhost:8080/"
        },
        "id": "q4bxxa1NMK0g",
        "outputId": "491bc375-5006-4b0c-bb50-dda19d631cd3"
      },
      "execution_count": null,
      "outputs": [
        {
          "output_type": "stream",
          "name": "stdout",
          "text": [
            "Hello World\n"
          ]
        }
      ]
    },
    {
      "cell_type": "code",
      "source": [
        "#list()\n",
        "x = list(('apple', 'cherry', 'banana'))//display the list\n",
        "print(x)"
      ],
      "metadata": {
        "colab": {
          "base_uri": "https://localhost:8080/"
        },
        "id": "GXZO617WNFLq",
        "outputId": "1d286bb5-f360-41a0-b866-b6f205badfac"
      },
      "execution_count": null,
      "outputs": [
        {
          "output_type": "stream",
          "name": "stdout",
          "text": [
            "['apple', 'cherry', 'banana']\n"
          ]
        }
      ]
    },
    {
      "cell_type": "code",
      "source": [
        "#float()\n",
        "x = float(3) //display the decimal value\n",
        "print(x)"
      ],
      "metadata": {
        "colab": {
          "base_uri": "https://localhost:8080/"
        },
        "id": "bgdJ0zf-NeJM",
        "outputId": "75dd50b0-e5f8-4c99-8733-91fe16fc501c"
      },
      "execution_count": null,
      "outputs": [
        {
          "output_type": "stream",
          "name": "stdout",
          "text": [
            "3.0\n"
          ]
        }
      ]
    },
    {
      "cell_type": "code",
      "source": [
        "def compute_lcm(x, y):\n",
        "   if x > y:\n",
        "       greater = x\n",
        "   else:\n",
        "       greater = y\n",
        "   while(True):\n",
        "       if((greater % x == 0) and (greater % y == 0)):\n",
        "           lcm = greater\n",
        "           break\n",
        "       greater += 1\n",
        "   return lcm\n",
        "num1 = int(input(\"enter the 1st number:\"))\n",
        "num2 = int(input(\"enter the 2nd number:\"))\n",
        "print(\"The L.C.M. is\", compute_lcm(num1, num2))"
      ],
      "metadata": {
        "colab": {
          "base_uri": "https://localhost:8080/"
        },
        "id": "mV-kjKZVOlMq",
        "outputId": "e8a85236-c29a-409b-f98a-5fa54952aedc"
      },
      "execution_count": null,
      "outputs": [
        {
          "output_type": "stream",
          "name": "stdout",
          "text": [
            "enter the 1st number:6\n",
            "enter the 2nd number:9\n",
            "The L.C.M. is 18\n"
          ]
        }
      ]
    },
    {
      "cell_type": "code",
      "source": [
        "def recur_fibo(n):\n",
        "   if n <= 1:\n",
        "       return n\n",
        "   else:\n",
        "       return(recur_fibo(n-1) + recur_fibo(n-2))\n",
        "nterms = 10\n",
        "if nterms <= 0:\n",
        "   print(\"Plese enter a positive integer\")\n",
        "else:\n",
        "   print(\"Fibonacci sequence:\")\n",
        "   for i in range(nterms):\n",
        "       print(recur_fibo(i))\n"
      ],
      "metadata": {
        "colab": {
          "base_uri": "https://localhost:8080/"
        },
        "id": "lRLQhPbzPg4a",
        "outputId": "9593c2a4-da97-48fc-e877-9882a31ce262"
      },
      "execution_count": null,
      "outputs": [
        {
          "output_type": "stream",
          "name": "stdout",
          "text": [
            "Fibonacci sequence:\n",
            "0\n",
            "1\n",
            "1\n",
            "2\n",
            "3\n",
            "5\n",
            "8\n",
            "13\n",
            "21\n",
            "34\n"
          ]
        }
      ]
    }
  ]
}